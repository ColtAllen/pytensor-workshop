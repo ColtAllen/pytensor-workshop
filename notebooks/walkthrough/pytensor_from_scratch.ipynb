{
  "nbformat": 4,
  "nbformat_minor": 0,
  "metadata": {
    "colab": {
      "provenance": [],
      "authorship_tag": "ABX9TyMZgZhhnVWYmnvJ7iFhLYCY",
      "include_colab_link": true
    },
    "kernelspec": {
      "name": "python3",
      "display_name": "Python 3"
    },
    "language_info": {
      "name": "python"
    }
  },
  "cells": [
    {
      "cell_type": "markdown",
      "metadata": {
        "id": "view-in-github",
        "colab_type": "text"
      },
      "source": [
        "<a href=\"https://colab.research.google.com/github/pymc-devs/pytensor-workshop/blob/main/notebooks/walkthrough/pytensor_from_scratch.ipynb\" target=\"_parent\"><img src=\"https://colab.research.google.com/assets/colab-badge.svg\" alt=\"Open In Colab\"/></a>"
      ]
    },
    {
      "cell_type": "markdown",
      "source": [
        "## Basic PyTensor objects"
      ],
      "metadata": {
        "id": "k_ghA0uOAqp5"
      }
    },
    {
      "cell_type": "code",
      "execution_count": 1,
      "metadata": {
        "id": "7wMXO8M3Jhdy"
      },
      "outputs": [],
      "source": [
        "class Type:\n",
        "    \"Baseclass for PyTensor types\"\n",
        "\n",
        "class Op:\n",
        "    \"Baseclass for PyTensor operations.\"\n",
        "\n",
        "    def __str__(self):\n",
        "        return self.__class__.__name__\n",
        "\n",
        "class Node:\n",
        "    \"Baseclass for PyTensor nodes.\"\n",
        "\n",
        "\n",
        "class Variable(Node):\n",
        "    def __init__(self, name=None, *, type: Type):\n",
        "        self.name = name\n",
        "        self.type = type\n",
        "        self.owner = None\n",
        "\n",
        "    def __repr__(self):\n",
        "        if self.name:\n",
        "            return self.name\n",
        "        return f\"Variable(type={self.type})\"\n",
        "\n",
        "class Apply(Node):\n",
        "    def __init__(self, op:Op, inputs, outputs):\n",
        "        self.op = op\n",
        "        self.inputs = inputs\n",
        "        self.outputs = outputs\n",
        "        for out in outputs:\n",
        "            if out.owner is not None:\n",
        "                raise ValueError(\"This variable already belongs to another Apply Node\")\n",
        "            out.owner = self\n",
        "\n",
        "    def __repr__(self):\n",
        "        return f\"Apply(op={self.op.__class__.__name__}, inputs={self.inputs}, outputs={self.outputs})\""
      ]
    },
    {
      "cell_type": "markdown",
      "source": [
        "## Writing our first tensor graph"
      ],
      "metadata": {
        "id": "J7ShwSIAAt6z"
      }
    },
    {
      "cell_type": "code",
      "source": [
        "class TensorType(Type):\n",
        "    def __init__(self, shape: tuple[float | None, ...], dtype: str):\n",
        "        self.shape = shape\n",
        "        self.dtype = dtype\n",
        "\n",
        "    def __eq__(self, other):\n",
        "        return (\n",
        "            type(self) is type(other)\n",
        "            and self.shape == other.shape\n",
        "            and self.dtype == other.dtype\n",
        "        )\n",
        "\n",
        "    def __repr__(self):\n",
        "        return f\"TensorType(shape={self.shape}, dtype={self.dtype})\"\n",
        "\n",
        "class Add(Op):\n",
        "    def make_node(self, a, b):\n",
        "        if not(isinstance(a.type, TensorType) and isinstance(b.type, TensorType)):\n",
        "            raise TypeError(\"Inputs must be tensors\")\n",
        "        if a.type != b.type:\n",
        "            raise TypeError(\"Addition only supported for inputs of the same type\")\n",
        "\n",
        "        output_type = TensorType(shape=a.type.shape, dtype=a.type.dtype)\n",
        "        output = Variable(type=output_type)\n",
        "        return Apply(self, [a, b], [output])\n",
        "\n",
        "\n",
        "add = Add()\n",
        "\n",
        "dvector = TensorType(shape=(10,), dtype=\"float64\")\n",
        "\n",
        "x = Variable(\"x\", type=dvector)\n",
        "y = Variable(\"y\", type=dvector)\n",
        "[x_add_y] = add.make_node(x, y).outputs\n",
        "x_add_y.name = \"x + y\"\n",
        "x_add_y.owner"
      ],
      "metadata": {
        "colab": {
          "base_uri": "https://localhost:8080/"
        },
        "id": "H7ZUARavKNxS",
        "outputId": "545a5ebc-4351-4033-fdbf-ceeecb59700f"
      },
      "execution_count": 2,
      "outputs": [
        {
          "output_type": "execute_result",
          "data": {
            "text/plain": [
              "Apply(op=Add, inputs=[x, y], outputs=[x + y])"
            ]
          },
          "metadata": {},
          "execution_count": 2
        }
      ]
    },
    {
      "cell_type": "code",
      "source": [
        "class Sum(Op):\n",
        "\n",
        "    def make_node(self, a):\n",
        "        if not(isinstance(a.type, TensorType)):\n",
        "            raise TypeError(\"Input must be a tensor\")\n",
        "        output_type = TensorType(shape=(), dtype=a.type.dtype)\n",
        "        output = Variable(type=output_type)\n",
        "        return Apply(self, [a], [output])\n",
        "\n",
        "sum = Sum()\n",
        "\n",
        "[sum_x_add_y] = sum.make_node(x_add_y).outputs\n",
        "sum_x_add_y.name = \"sum(x + y)\"\n",
        "sum_x_add_y.owner"
      ],
      "metadata": {
        "colab": {
          "base_uri": "https://localhost:8080/"
        },
        "id": "A-R8pk80M0Av",
        "outputId": "3bb02f55-2345-4c51-c93b-74aad4e002ee"
      },
      "execution_count": 3,
      "outputs": [
        {
          "output_type": "execute_result",
          "data": {
            "text/plain": [
              "Apply(op=Sum, inputs=[x + y], outputs=[sum(x + y)])"
            ]
          },
          "metadata": {},
          "execution_count": 3
        }
      ]
    },
    {
      "cell_type": "code",
      "source": [
        "import pytensor\n",
        "# Make our Variable a class of the PyTensor Variable\n",
        "pytensor.graph.basic.Variable.register(Variable)\n",
        "\n",
        "pytensor.dprint(sum_x_add_y)"
      ],
      "metadata": {
        "colab": {
          "base_uri": "https://localhost:8080/"
        },
        "id": "Y3yW-SmUQAuh",
        "outputId": "d581e825-251b-42eb-cac5-b4187003297a"
      },
      "execution_count": 4,
      "outputs": [
        {
          "output_type": "stream",
          "name": "stdout",
          "text": [
            "Sum [id A] 'sum(x + y)'\n",
            " └─ Add [id B] 'x + y'\n",
            "    ├─ x [id C]\n",
            "    └─ y [id D]\n"
          ]
        },
        {
          "output_type": "execute_result",
          "data": {
            "text/plain": [
              "<ipykernel.iostream.OutStream at 0x7dad87ce1540>"
            ]
          },
          "metadata": {},
          "execution_count": 4
        }
      ]
    },
    {
      "cell_type": "markdown",
      "source": [
        "## Evaluating a graph"
      ],
      "metadata": {
        "id": "oeQ-8V5tAyZp"
      }
    },
    {
      "cell_type": "code",
      "source": [
        "def add_perform(self, inputs):\n",
        "    a, b = inputs\n",
        "    return [a + b]\n",
        "\n",
        "Add.perform = add_perform\n",
        "\n",
        "def sum_perform(self, inputs):\n",
        "    [a] = inputs\n",
        "    return [a.sum()]\n",
        "\n",
        "Sum.perform = sum_perform"
      ],
      "metadata": {
        "id": "nbCq17UOs6j1"
      },
      "execution_count": 5,
      "outputs": []
    },
    {
      "cell_type": "code",
      "source": [
        "def eval(var, given):\n",
        "    if var in given:\n",
        "        return given[var]\n",
        "\n",
        "    if var.owner is None:\n",
        "        raise ValueError(\"Root variable must be given values\")\n",
        "\n",
        "    evaled_inputs = [eval(input, given) for input in var.owner.inputs]\n",
        "    evaled_outputs = var.owner.op.perform(evaled_inputs)\n",
        "    for output, evaled_output in zip(var.owner.outputs, evaled_outputs):\n",
        "        given[output] = evaled_output\n",
        "    return given[var]\n",
        "\n",
        "import numpy as np\n",
        "eval(sum_x_add_y, {x: np.arange(10), y: np.arange(10)})"
      ],
      "metadata": {
        "colab": {
          "base_uri": "https://localhost:8080/"
        },
        "id": "mdT7ur2lRLgQ",
        "outputId": "37ca4832-d46c-4ca3-ea28-c757ffe61e7e"
      },
      "execution_count": 6,
      "outputs": [
        {
          "output_type": "execute_result",
          "data": {
            "text/plain": [
              "90"
            ]
          },
          "metadata": {},
          "execution_count": 6
        }
      ]
    },
    {
      "cell_type": "code",
      "source": [
        "eval(sum_x_add_y, {x_add_y: np.arange(10)})"
      ],
      "metadata": {
        "colab": {
          "base_uri": "https://localhost:8080/"
        },
        "id": "JprCeGPFSxfh",
        "outputId": "7e4be889-8b48-4e26-d357-6e977bf34164"
      },
      "execution_count": 7,
      "outputs": [
        {
          "output_type": "execute_result",
          "data": {
            "text/plain": [
              "45"
            ]
          },
          "metadata": {},
          "execution_count": 7
        }
      ]
    },
    {
      "cell_type": "markdown",
      "source": [
        "## Constants"
      ],
      "metadata": {
        "id": "cZ3fFv04EgcJ"
      }
    },
    {
      "cell_type": "code",
      "source": [
        "class Constant(Variable):\n",
        "    def __init__(self, data, *, type: Type):\n",
        "        self.data = data\n",
        "        super().__init__(type=type)\n",
        "\n",
        "    def __repr__(self):\n",
        "        return str(self.data)\n",
        "\n",
        "def eval(var, given):\n",
        "    if var in given:\n",
        "        return given[var]\n",
        "\n",
        "    if isinstance(var, Constant):\n",
        "        return var.data\n",
        "\n",
        "    if var.owner is None:\n",
        "        raise ValueError(\"Root variable must be given values\")\n",
        "\n",
        "    evaled_inputs = [eval(input, given) for input in var.owner.inputs]\n",
        "    evaled_outputs = var.owner.op.perform(evaled_inputs)\n",
        "    for output, evaled_output in zip(var.owner.outputs, evaled_outputs):\n",
        "        given[output] = evaled_output\n",
        "    return given[var]"
      ],
      "metadata": {
        "id": "G5kDQWwhEd3v"
      },
      "execution_count": 8,
      "outputs": []
    },
    {
      "cell_type": "code",
      "source": [
        "two = Constant(np.full((10,), 10), type=dvector)\n",
        "two"
      ],
      "metadata": {
        "id": "VpQDibcqS7b0",
        "colab": {
          "base_uri": "https://localhost:8080/"
        },
        "outputId": "84767ade-c301-4145-db89-d424faedd208"
      },
      "execution_count": 9,
      "outputs": [
        {
          "output_type": "execute_result",
          "data": {
            "text/plain": [
              "[10 10 10 10 10 10 10 10 10 10]"
            ]
          },
          "metadata": {},
          "execution_count": 9
        }
      ]
    },
    {
      "cell_type": "code",
      "source": [
        "x_add_2 = add.make_node(x, two).outputs[0]\n",
        "eval(x_add_2, {x: np.arange(10)})"
      ],
      "metadata": {
        "colab": {
          "base_uri": "https://localhost:8080/"
        },
        "id": "Ww9-vS-uFG2n",
        "outputId": "a30bc0ff-1098-43ed-b7e6-05c348d352d1"
      },
      "execution_count": 10,
      "outputs": [
        {
          "output_type": "execute_result",
          "data": {
            "text/plain": [
              "array([10, 11, 12, 13, 14, 15, 16, 17, 18, 19])"
            ]
          },
          "metadata": {},
          "execution_count": 10
        }
      ]
    },
    {
      "cell_type": "markdown",
      "source": [
        "## Making it easier to work with"
      ],
      "metadata": {
        "id": "gFah-lSgrgpQ"
      }
    },
    {
      "cell_type": "code",
      "source": [
        "def type_call(self, name: str | None = None):\n",
        "    \"\"\"Create a variable with self type when calling the type.\"\"\"\n",
        "    return Variable(name=name, type=self)\n",
        "\n",
        "Type.__call__ = type_call"
      ],
      "metadata": {
        "id": "u4ue96fjtYYo"
      },
      "execution_count": 11,
      "outputs": []
    },
    {
      "cell_type": "code",
      "source": [
        "def op_call(self, *args, name: str | None = None):\n",
        "    \"\"\"Create a node with self operation and return the output when calling the operation.\"\"\"\n",
        "    node = self.make_node(*args)\n",
        "    if len(node.outputs) == 1:\n",
        "        out = node.outputs[0]\n",
        "        out.name = name\n",
        "        return out\n",
        "    else:\n",
        "        return node.outputs\n",
        "\n",
        "Op.__call__ = op_call"
      ],
      "metadata": {
        "id": "54DLnVwmrfaZ"
      },
      "execution_count": 12,
      "outputs": []
    },
    {
      "cell_type": "code",
      "source": [
        "Variable.eval = eval\n",
        "Variable.dprint = pytensor.dprint"
      ],
      "metadata": {
        "id": "tNVIFAA9wuHf"
      },
      "execution_count": 13,
      "outputs": []
    },
    {
      "cell_type": "code",
      "source": [
        "class Sum(Op):\n",
        "    def __init__(self, axis: tuple[int]):\n",
        "        self.axis = axis\n",
        "\n",
        "    def make_node(self, a):\n",
        "        if not(isinstance(a.type, TensorType)):\n",
        "            raise TypeError(\"Input must be a tensor\")\n",
        "        output_shape = tuple(\n",
        "            dim\n",
        "            for i, dim in enumerate(a.type.shape)\n",
        "            if i not in self.axis\n",
        "        )\n",
        "        out_var = TensorType(shape=output_shape, dtype=a.type.dtype)()\n",
        "        return Apply(self, [a], [out_var])\n",
        "\n",
        "    def perform(self, inputs):\n",
        "        [a] = inputs\n",
        "        return [a.sum(axis=self.axis)]\n",
        "\n",
        "    def __str__(self):\n",
        "        return f\"Sum(axis={self.axis})\""
      ],
      "metadata": {
        "id": "YJCrfQWVtd8C"
      },
      "execution_count": 14,
      "outputs": []
    },
    {
      "cell_type": "code",
      "source": [
        "dmatrix = TensorType(shape=(3, 5), dtype=\"float64\")\n",
        "x = dmatrix(name=\"x\")\n",
        "out = Sum(axis=(1,))(add(x, x))"
      ],
      "metadata": {
        "id": "xyBj9wadrTCd"
      },
      "execution_count": 15,
      "outputs": []
    },
    {
      "cell_type": "code",
      "source": [
        "out.type"
      ],
      "metadata": {
        "colab": {
          "base_uri": "https://localhost:8080/"
        },
        "id": "-3dl-4qzsoBH",
        "outputId": "c6e5eb31-4e56-4edb-9b55-f1d729ed1718"
      },
      "execution_count": 16,
      "outputs": [
        {
          "output_type": "execute_result",
          "data": {
            "text/plain": [
              "TensorType(shape=(3,), dtype=float64)"
            ]
          },
          "metadata": {},
          "execution_count": 16
        }
      ]
    },
    {
      "cell_type": "code",
      "source": [
        "pytensor.dprint(out)"
      ],
      "metadata": {
        "colab": {
          "base_uri": "https://localhost:8080/"
        },
        "id": "VaFwtANpstkw",
        "outputId": "739493b5-4a61-44e1-b02b-40095d65f5f8"
      },
      "execution_count": 17,
      "outputs": [
        {
          "output_type": "stream",
          "name": "stdout",
          "text": [
            "Sum(axis=(1,)) [id A]\n",
            " └─ Add [id B]\n",
            "    ├─ x [id C]\n",
            "    └─ x [id C]\n"
          ]
        },
        {
          "output_type": "execute_result",
          "data": {
            "text/plain": [
              "<ipykernel.iostream.OutStream at 0x7dad87ce1540>"
            ]
          },
          "metadata": {},
          "execution_count": 17
        }
      ]
    },
    {
      "cell_type": "code",
      "source": [
        "out.eval({x: np.arange(15).reshape((3, 5))})"
      ],
      "metadata": {
        "colab": {
          "base_uri": "https://localhost:8080/"
        },
        "id": "Zoo02SWiw_x4",
        "outputId": "a5b297ed-c4d7-4525-c99b-d96cfe17bbff"
      },
      "execution_count": 18,
      "outputs": [
        {
          "output_type": "execute_result",
          "data": {
            "text/plain": [
              "array([ 20,  70, 120])"
            ]
          },
          "metadata": {},
          "execution_count": 18
        }
      ]
    },
    {
      "cell_type": "markdown",
      "source": [
        "## Rewrites the clumsy way"
      ],
      "metadata": {
        "id": "SgzWY0P5vRPs"
      }
    },
    {
      "cell_type": "code",
      "source": [
        "class Mul(Op):\n",
        "    def make_node(self, a, b):\n",
        "        if not(isinstance(a.type, TensorType) and isinstance(b.type, TensorType)):\n",
        "            raise TypeError(\"Inputs must be tensors\")\n",
        "        if a.type.dtype != b.type.dtype:\n",
        "            raise TypeError(\"Multiplication only supported for inputs of the same dtype\")\n",
        "        output_shape = np.broadcast_shapes(a.type.shape, b.type.shape)\n",
        "        output = TensorType(shape=output_shape, dtype=a.type.dtype)()\n",
        "        return Apply(self, [a, b], [output])\n",
        "\n",
        "    def perform(self, inputs):\n",
        "        [a, b] = inputs\n",
        "        return [a * b]\n",
        "\n",
        "mul = Mul()"
      ],
      "metadata": {
        "id": "kuNvhAgwvbt_"
      },
      "execution_count": 19,
      "outputs": []
    },
    {
      "cell_type": "code",
      "source": [
        "pytensor.dprint(out)"
      ],
      "metadata": {
        "colab": {
          "base_uri": "https://localhost:8080/"
        },
        "id": "M8XLD7GpvQFc",
        "outputId": "8ecc9609-0c95-484b-a042-e513cdad4833"
      },
      "execution_count": 20,
      "outputs": [
        {
          "output_type": "stream",
          "name": "stdout",
          "text": [
            "Sum(axis=(1,)) [id A]\n",
            " └─ Add [id B]\n",
            "    ├─ x [id C]\n",
            "    └─ x [id C]\n"
          ]
        },
        {
          "output_type": "execute_result",
          "data": {
            "text/plain": [
              "<ipykernel.iostream.OutStream at 0x7dad87ce1540>"
            ]
          },
          "metadata": {},
          "execution_count": 20
        }
      ]
    },
    {
      "cell_type": "code",
      "source": [
        "scalar = TensorType(shape=(), dtype=\"float64\")\n",
        "two_x = mul(x, Constant(np.array(2.0), type=scalar))"
      ],
      "metadata": {
        "id": "NLlcoIKMuzjd"
      },
      "execution_count": 21,
      "outputs": []
    },
    {
      "cell_type": "code",
      "source": [
        "# Just change the input that goes into the Sum!\n",
        "out.owner.inputs[0] = two_x"
      ],
      "metadata": {
        "id": "NdLVEqUGwF_r"
      },
      "execution_count": 22,
      "outputs": []
    },
    {
      "cell_type": "code",
      "source": [
        "out.dprint()"
      ],
      "metadata": {
        "colab": {
          "base_uri": "https://localhost:8080/"
        },
        "id": "IacFZFN2whUU",
        "outputId": "045605a6-b1e6-4625-f3b6-224dd8b6febd"
      },
      "execution_count": 23,
      "outputs": [
        {
          "output_type": "stream",
          "name": "stdout",
          "text": [
            "Sum(axis=(1,)) [id A]\n",
            " └─ Mul [id B]\n",
            "    ├─ x [id C]\n",
            "    └─ 2.0 [id D]\n"
          ]
        },
        {
          "output_type": "execute_result",
          "data": {
            "text/plain": [
              "<ipykernel.iostream.OutStream at 0x7dad87ce1540>"
            ]
          },
          "metadata": {},
          "execution_count": 23
        }
      ]
    },
    {
      "cell_type": "code",
      "source": [
        "out.eval({x: np.arange(15).reshape((3, 5))})"
      ],
      "metadata": {
        "colab": {
          "base_uri": "https://localhost:8080/"
        },
        "id": "mROq8O0awi53",
        "outputId": "309e1242-02ee-4730-cf30-229588c17a8e"
      },
      "execution_count": 24,
      "outputs": [
        {
          "output_type": "execute_result",
          "data": {
            "text/plain": [
              "array([ 20.,  70., 120.])"
            ]
          },
          "metadata": {},
          "execution_count": 24
        }
      ]
    },
    {
      "cell_type": "markdown",
      "source": [
        "## Rewrites the proper way"
      ],
      "metadata": {
        "id": "G7lpHhSkxQP7"
      }
    },
    {
      "cell_type": "code",
      "source": [
        "out = Sum(axis=(1,))(add(x, x))"
      ],
      "metadata": {
        "id": "6BpDFYRixNDj"
      },
      "execution_count": 25,
      "outputs": []
    },
    {
      "cell_type": "code",
      "source": [
        "def clone_graph(var, clone_dict=None):\n",
        "    if clone_dict is None:\n",
        "        clone_dict = {}\n",
        "    if var in clone_dict:\n",
        "        return var\n",
        "    if var.owner is None:\n",
        "        # Reuse root variables and constants\n",
        "        return var\n",
        "\n",
        "    new_inputs = [clone_graph(input, clone_dict) for input in var.owner.inputs]\n",
        "    new_outputs = [out.type() for out in var.owner.outputs]\n",
        "    new_apply = Apply(var.owner.op, new_inputs, new_outputs)\n",
        "    for new_output, old_output in zip(new_outputs, var.owner.outputs):\n",
        "        clone_dict[old_output] = new_output\n",
        "    return new_outputs[var.owner.outputs.index(var)]\n",
        "\n",
        "new_out = clone_graph(out)"
      ],
      "metadata": {
        "id": "TlIlpVYKwpay"
      },
      "execution_count": 26,
      "outputs": []
    },
    {
      "cell_type": "code",
      "source": [
        "new_out = clone_graph(out)\n",
        "new_out.dprint()\n",
        "new_out is out, new_out.owner.inputs[0] is out.owner.inputs[0]"
      ],
      "metadata": {
        "colab": {
          "base_uri": "https://localhost:8080/"
        },
        "id": "a6oMZfCO-_VT",
        "outputId": "f5b7d4ea-3255-4f21-b937-4b4fca4e19a2"
      },
      "execution_count": 27,
      "outputs": [
        {
          "output_type": "stream",
          "name": "stdout",
          "text": [
            "Sum(axis=(1,)) [id A]\n",
            " └─ Add [id B]\n",
            "    ├─ x [id C]\n",
            "    └─ x [id C]\n"
          ]
        },
        {
          "output_type": "execute_result",
          "data": {
            "text/plain": [
              "(False, False)"
            ]
          },
          "metadata": {},
          "execution_count": 27
        }
      ]
    },
    {
      "cell_type": "code",
      "source": [
        "def compute_clients(var):\n",
        "    clients = {var: []}\n",
        "    queue = [var.owner]\n",
        "    while queue:\n",
        "        apply = queue.pop(0)\n",
        "        if apply is None:\n",
        "            continue\n",
        "        queue.extend([inp.owner for inp in apply.inputs])\n",
        "\n",
        "        for idx, input in enumerate(apply.inputs):\n",
        "            if input not in clients:\n",
        "                clients[input] = {(idx, apply)}\n",
        "            else:\n",
        "                clients[input].add((idx, apply))\n",
        "    return clients"
      ],
      "metadata": {
        "id": "j_WMPE-A3w9t"
      },
      "execution_count": 28,
      "outputs": []
    },
    {
      "cell_type": "code",
      "source": [
        "out.name = \"Sum(x + x)\"\n",
        "out.owner.inputs[0].name = \"x + x\"\n",
        "compute_clients(out)"
      ],
      "metadata": {
        "colab": {
          "base_uri": "https://localhost:8080/"
        },
        "id": "bI6eKY3V_K2V",
        "outputId": "4d0bb22a-a158-4091-8ff3-b68219a32a99"
      },
      "execution_count": 29,
      "outputs": [
        {
          "output_type": "execute_result",
          "data": {
            "text/plain": [
              "{Sum(x + x): [],\n",
              " x + x: {(0, Apply(op=Sum, inputs=[x + x], outputs=[Sum(x + x)]))},\n",
              " x: {(0, Apply(op=Add, inputs=[x, x], outputs=[x + x])),\n",
              "  (1, Apply(op=Add, inputs=[x, x], outputs=[x + x]))}}"
            ]
          },
          "metadata": {},
          "execution_count": 29
        }
      ]
    },
    {
      "cell_type": "code",
      "source": [
        "def local_add_to_mul(apply: Apply) -> list[Variable] | None:\n",
        "    \"\"\"x + x -> x * 2\"\"\"\n",
        "    if not isinstance(apply.op, Add):\n",
        "        return None\n",
        "\n",
        "    x, y = apply.inputs\n",
        "    if x is y:\n",
        "        return [mul(x, Constant(np.array(2.0), type=scalar))]\n",
        "\n",
        "def local_factor_sum_mul(apply: Apply) -> list[Variable] | None:\n",
        "    \"\"\"sum(x * a) -> sum(x) * a, when a is a scalar.\"\"\"\n",
        "    if not isinstance(apply.op, Sum):\n",
        "        return None\n",
        "\n",
        "    sum_input = apply.inputs[0]\n",
        "\n",
        "    if not (sum_input.owner is not None and isinstance(sum_input.owner.op, Mul)):\n",
        "        return None\n",
        "\n",
        "    mul_input, mul_factor = sum_input.owner.inputs\n",
        "\n",
        "    # Check the second input is a scalar\n",
        "    if mul_factor.type.shape != ():\n",
        "        return None\n",
        "\n",
        "    new_sum = apply.op(mul_input)\n",
        "    new_mul = mul(new_sum, mul_factor)\n",
        "    return [new_mul]\n",
        "\n",
        "\n",
        "def graph_rewrite(node_rewrites, var):\n",
        "    clients = compute_clients(var)\n",
        "    queue = [var.owner]\n",
        "    while queue:\n",
        "        apply = queue.pop(0)\n",
        "        if apply is None:\n",
        "            continue\n",
        "\n",
        "        queue.extend([inp.owner for inp in apply.inputs])\n",
        "\n",
        "        for node_rewrite in node_rewrites:\n",
        "            replacements = node_rewrite(apply)\n",
        "            if replacements is None:\n",
        "                continue\n",
        "            else:\n",
        "                for old_out, new_out in zip(apply.outputs, replacements):\n",
        "                    if old_out is var:\n",
        "                        # The output variable was itself replaced, reference new one from now on\n",
        "                        var = new_out\n",
        "                    else:\n",
        "                        # Update any references to the old variable by the replacement\n",
        "                        for inp_idx, client in clients[old_out]:\n",
        "                            client.inputs[inp_idx] = new_out\n",
        "                # Try to apply rewrites in new var\n",
        "                return graph_rewrite(node_rewrites, var)\n",
        "    return var"
      ],
      "metadata": {
        "id": "edJqqSWlxH13"
      },
      "execution_count": 30,
      "outputs": []
    },
    {
      "cell_type": "code",
      "source": [
        "new_out = clone_graph(out)\n",
        "new_out.dprint()"
      ],
      "metadata": {
        "colab": {
          "base_uri": "https://localhost:8080/"
        },
        "id": "GA6EZw8g_ro8",
        "outputId": "8bed14c1-b4fa-4f0c-869b-a3a61294d2fe"
      },
      "execution_count": 31,
      "outputs": [
        {
          "output_type": "stream",
          "name": "stdout",
          "text": [
            "Sum(axis=(1,)) [id A]\n",
            " └─ Add [id B]\n",
            "    ├─ x [id C]\n",
            "    └─ x [id C]\n"
          ]
        },
        {
          "output_type": "execute_result",
          "data": {
            "text/plain": [
              "<ipykernel.iostream.OutStream at 0x7dad87ce1540>"
            ]
          },
          "metadata": {},
          "execution_count": 31
        }
      ]
    },
    {
      "cell_type": "code",
      "source": [
        "new_out = graph_rewrite([local_add_to_mul], new_out)"
      ],
      "metadata": {
        "id": "sQ5kEKVayYbV"
      },
      "execution_count": 32,
      "outputs": []
    },
    {
      "cell_type": "code",
      "source": [
        "new_out.dprint()"
      ],
      "metadata": {
        "colab": {
          "base_uri": "https://localhost:8080/"
        },
        "id": "sfRKRvPl5KoP",
        "outputId": "b33aa799-6b10-418c-db8b-32692e3ceaa0"
      },
      "execution_count": 33,
      "outputs": [
        {
          "output_type": "stream",
          "name": "stdout",
          "text": [
            "Sum(axis=(1,)) [id A]\n",
            " └─ Mul [id B]\n",
            "    ├─ x [id C]\n",
            "    └─ 2.0 [id D]\n"
          ]
        },
        {
          "output_type": "execute_result",
          "data": {
            "text/plain": [
              "<ipykernel.iostream.OutStream at 0x7dad87ce1540>"
            ]
          },
          "metadata": {},
          "execution_count": 33
        }
      ]
    },
    {
      "cell_type": "code",
      "source": [
        "new_out = clone_graph(out)\n",
        "new_out = graph_rewrite([local_add_to_mul, local_factor_sum_mul], new_out)\n",
        "new_out.dprint()"
      ],
      "metadata": {
        "colab": {
          "base_uri": "https://localhost:8080/"
        },
        "id": "pYN24Z5C5cz9",
        "outputId": "f0c6350c-4954-4e11-8eba-2b7828aa1fba"
      },
      "execution_count": 34,
      "outputs": [
        {
          "output_type": "stream",
          "name": "stdout",
          "text": [
            "Mul [id A]\n",
            " ├─ Sum(axis=(1,)) [id B]\n",
            " │  └─ x [id C]\n",
            " └─ 2.0 [id D]\n"
          ]
        },
        {
          "output_type": "execute_result",
          "data": {
            "text/plain": [
              "<ipykernel.iostream.OutStream at 0x7dad87ce1540>"
            ]
          },
          "metadata": {},
          "execution_count": 34
        }
      ]
    },
    {
      "cell_type": "code",
      "source": [
        "# Confirm math holds up\n",
        "new_out.eval({x: np.arange(15).reshape((3, 5))})"
      ],
      "metadata": {
        "colab": {
          "base_uri": "https://localhost:8080/"
        },
        "id": "2wUTF4tl-h-F",
        "outputId": "cd1d2a13-c4fc-4a80-bfa7-caadc4856d51"
      },
      "execution_count": 35,
      "outputs": [
        {
          "output_type": "execute_result",
          "data": {
            "text/plain": [
              "array([ 20.,  70., 120.])"
            ]
          },
          "metadata": {},
          "execution_count": 35
        }
      ]
    },
    {
      "cell_type": "code",
      "source": [],
      "metadata": {
        "id": "q2TYacpp82EQ"
      },
      "execution_count": 35,
      "outputs": []
    }
  ]
}